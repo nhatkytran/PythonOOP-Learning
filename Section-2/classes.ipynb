{
 "cells": [
  {
   "cell_type": "code",
   "execution_count": 7,
   "metadata": {},
   "outputs": [
    {
     "data": {
      "text/plain": [
       "True"
      ]
     },
     "execution_count": 7,
     "metadata": {},
     "output_type": "execute_result"
    }
   ],
   "source": [
    "# 1. Objects and Classes\n",
    "\n",
    "\n",
    "class Person:\n",
    "    pass\n",
    "\n",
    "\n",
    "type(Person) # type\n",
    "type(type) # type\n",
    "\n",
    "Person.__name__ # 'Person'\n",
    "\n",
    "p = Person()\n",
    "\n",
    "type(p)  # __main__.Person\n",
    "p.__class__  # __main__.Person\n",
    "isinstance(p, Person) # True\n"
   ]
  },
  {
   "cell_type": "code",
   "execution_count": 9,
   "metadata": {},
   "outputs": [
    {
     "name": "stdout",
     "output_type": "stream",
     "text": [
      "{'__module__': '__main__', 'language': 'Python', 'version': 3.6, '__dict__': <attribute '__dict__' of 'MyClass' objects>, '__weakref__': <attribute '__weakref__' of 'MyClass' objects>, '__doc__': None}\n"
     ]
    },
    {
     "data": {
      "text/plain": [
       "'MyClass'"
      ]
     },
     "execution_count": 9,
     "metadata": {},
     "output_type": "execute_result"
    }
   ],
   "source": [
    "# 2. Class Attributes\n",
    "\n",
    "\n",
    "class MyClass:\n",
    "    language = 'Python'\n",
    "    version = 3.6\n",
    "\n",
    "\n",
    "MyClass.__dict__\n",
    "getattr(MyClass, '__name__')  # 'MyClass'\n"
   ]
  },
  {
   "cell_type": "code",
   "execution_count": null,
   "metadata": {},
   "outputs": [],
   "source": []
  }
 ],
 "metadata": {
  "kernelspec": {
   "display_name": "Python 3",
   "language": "python",
   "name": "python3"
  },
  "language_info": {
   "codemirror_mode": {
    "name": "ipython",
    "version": 3
   },
   "file_extension": ".py",
   "mimetype": "text/x-python",
   "name": "python",
   "nbconvert_exporter": "python",
   "pygments_lexer": "ipython3",
   "version": "3.9.5"
  },
  "orig_nbformat": 4,
  "vscode": {
   "interpreter": {
    "hash": "b8bdd4e700647ba2b08c59e5df8b7da1dcf50a218bcd4c1bcd9b3dc92e8788e5"
   }
  }
 },
 "nbformat": 4,
 "nbformat_minor": 2
}
