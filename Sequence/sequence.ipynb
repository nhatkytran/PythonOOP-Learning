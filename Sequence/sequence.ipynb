{
 "cells": [
  {
   "cell_type": "code",
   "execution_count": 3,
   "metadata": {},
   "outputs": [
    {
     "name": "stdout",
     "output_type": "stream",
     "text": [
      "1\n",
      "2\n",
      "3\n",
      "4\n",
      "---\n",
      "1\n",
      "2\n",
      "3\n",
      "4\n"
     ]
    }
   ],
   "source": [
    "nums = [1, 2, 3, 4]\n",
    "\n",
    "for num in nums:\n",
    "    print(num)\n",
    "\n",
    "print('---')\n",
    "\n",
    "index = 0\n",
    "while True:\n",
    "    try:\n",
    "        num = nums.__getitem__(index)\n",
    "        print(num)\n",
    "        index += 1\n",
    "    except IndexError:\n",
    "        break\n"
   ]
  },
  {
   "cell_type": "code",
   "execution_count": 18,
   "metadata": {},
   "outputs": [
    {
     "name": "stdout",
     "output_type": "stream",
     "text": [
      "0\n",
      "---\n",
      "0\n",
      "1\n",
      "2\n",
      "3\n",
      "4\n",
      "---\n",
      "0\n",
      "1\n",
      "2\n",
      "3\n",
      "4\n"
     ]
    }
   ],
   "source": [
    "class Sequence:\n",
    "    def __init__(self, length):\n",
    "        self.length = length\n",
    "\n",
    "    def __len__(self):\n",
    "        return self.length\n",
    "\n",
    "    def __getitem__(self, index):\n",
    "        if index >= len(self) or index < -len(self):\n",
    "            raise IndexError\n",
    "        return index\n",
    "\n",
    "\n",
    "s = Sequence(5)\n",
    "\n",
    "print(s[0])\n",
    "# print(s[100]) --> IndexError\n",
    "# print(s[-100]) --> IndexError\n",
    "\n",
    "print('---')\n",
    "\n",
    "for index in s:\n",
    "    print(index)\n",
    "\n",
    "print('---')\n",
    "\n",
    "for index in s:\n",
    "    print(index)\n"
   ]
  },
  {
   "cell_type": "code",
   "execution_count": 15,
   "metadata": {},
   "outputs": [
    {
     "name": "stdout",
     "output_type": "stream",
     "text": [
      "<class 'slice'>\n",
      "(0, 3, 1)\n",
      "(0, 5, 1)\n",
      "<class 'tuple'>\n",
      "[0, 1, 2, 3, 4]\n"
     ]
    }
   ],
   "source": [
    "print(type(slice(None, None, -1)))\n",
    "print(slice(0, 5).indices(3))\n",
    "print(slice(0, 5).indices(8))\n",
    "print(type(slice(0, 5).indices(8)))\n",
    "\n",
    "print(list(range(*slice(0, 5).indices(8))))\n"
   ]
  },
  {
   "cell_type": "code",
   "execution_count": 18,
   "metadata": {},
   "outputs": [
    {
     "name": "stdout",
     "output_type": "stream",
     "text": [
      "[1, 1, 2, 3, 5, 8, 13, 21, 34, 55]\n",
      "55\n",
      "[1, 1, 2, 3, 5]\n"
     ]
    }
   ],
   "source": [
    "from functools import lru_cache\n",
    "\n",
    "\n",
    "class Fib:\n",
    "    def __init__(self, n):\n",
    "        self.n = n\n",
    "\n",
    "    @staticmethod\n",
    "    @lru_cache(2 ** 10)\n",
    "    def fib(n):\n",
    "        if n < 2: return 1\n",
    "        return Fib.fib(n - 1) + Fib.fib(n - 2)\n",
    "\n",
    "    def __len__(self):\n",
    "        return self.n\n",
    "    \n",
    "    def __getitem__(self, index):\n",
    "        if isinstance(index, int):\n",
    "            if index < 0:\n",
    "                index += len(self)\n",
    "            if index < 0 or index >= len(self):\n",
    "                raise IndexError\n",
    "            return Fib.fib(index)\n",
    "        else:\n",
    "            # slice.indicies(length) --> tuple\n",
    "            # list(range(tuple))\n",
    "            return [Fib.fib(value) for value in range(*index.indices(len(self)))]\n",
    "    \n",
    "\n",
    "f = Fib(10)\n",
    "\n",
    "print(list(f))\n",
    "print(f[-1])\n",
    "\n",
    "print(f[0:5])"
   ]
  },
  {
   "cell_type": "code",
   "execution_count": 19,
   "metadata": {},
   "outputs": [
    {
     "name": "stdout",
     "output_type": "stream",
     "text": [
      "__iadd__\n",
      "Jesmike\n",
      "<__main__.Person object at 0x104765660>\n"
     ]
    }
   ],
   "source": [
    "class Person:\n",
    "    def __init__(self, name):\n",
    "        self.name = name\n",
    "\n",
    "    def __add__(self, other):\n",
    "        print('__add__')\n",
    "        print(other.name)\n",
    "\n",
    "    def __radd__(self, other):\n",
    "        return self.__add__(other)\n",
    "    \n",
    "    def __iadd__(self, other):\n",
    "        print('__iadd__')\n",
    "        print(other.name)\n",
    "        return self\n",
    "\n",
    "\n",
    "class OtherPerson:\n",
    "    def __init__(self, name):\n",
    "        self.name = name\n",
    "\n",
    "\n",
    "p = Person('Ajaxander')\n",
    "p2 = OtherPerson('Jesmike')\n",
    "\n",
    "p += p2\n",
    "\n",
    "print(p)"
   ]
  },
  {
   "cell_type": "code",
   "execution_count": 24,
   "metadata": {},
   "outputs": [
    {
     "name": "stdout",
     "output_type": "stream",
     "text": [
      "AjaxanderJesmike\n",
      "0x1046f6860\n",
      "0x1046f6860\n",
      "AjaxanderJesmike\n",
      "True\n"
     ]
    }
   ],
   "source": [
    "class Person:\n",
    "    def __init__(self, name):\n",
    "        self.name = name\n",
    "\n",
    "    def __add__(self, other):\n",
    "        return self.__class__(self.name + other.name)\n",
    "    \n",
    "    def __iadd__(self, other):\n",
    "        self.name += other.name\n",
    "        return self\n",
    "    \n",
    "    def __radd__(self, other):\n",
    "        return self.__add__(other)\n",
    "    \n",
    "    def __contains__(self, value):\n",
    "        return value in self.name\n",
    "    \n",
    "\n",
    "p1 = Person('Ajaxander')\n",
    "p2 = Person('Jesmike')\n",
    "\n",
    "print((p1 + p2).name)\n",
    "\n",
    "print(hex(id(p1)))\n",
    "\n",
    "p1 += p2\n",
    "\n",
    "print(hex(id(p1)))\n",
    "\n",
    "print(p1.name)\n",
    "\n",
    "print('A' in p1)"
   ]
  },
  {
   "cell_type": "code",
   "execution_count": 17,
   "metadata": {},
   "outputs": [],
   "source": [
    "# Custom Sequences - Part 2B\n",
    "\n",
    "import numbers\n",
    "\n",
    "\n",
    "class Point:\n",
    "    def __init__(self, x, y):\n",
    "        if isinstance(x, numbers.Real) and isinstance(y, numbers.Real):\n",
    "            self._pt = (x, y)\n",
    "        else:\n",
    "            raise TypeError('Point co-ordinates must be real numbers.')\n",
    "        \n",
    "    def __repr__(self):\n",
    "        return f'Point(x={self._pt[0]}, y={self._pt[1]})'\n",
    "    \n",
    "    def __len__(self):\n",
    "        return len(self._pt)\n",
    "    \n",
    "    def __getitem__(self, index):\n",
    "        # if index >= len(self):\n",
    "        #     raise IndexError\n",
    "        # index == 2 --> tuple self._pt raise IndexError\n",
    "        return self._pt[index]\n",
    "    \n",
    "\n",
    "class Polygon:\n",
    "    def __init__(self, *pts):\n",
    "        if pts:\n",
    "            self._pts = [Point(*pt) for pt in pts]\n",
    "        else:\n",
    "            self._pts = []\n",
    "\n",
    "    def __repr__(self):\n",
    "        points = ', '.join(str(pt) for pt in self._pts)\n",
    "        return f'Polygon({points})'\n",
    "    \n",
    "    def __len__(self):\n",
    "        return len(self._pts)\n",
    "    \n",
    "    def __getitem__(self, index):\n",
    "        return self._pts[index]\n",
    "    \n",
    "    def __add__(self, other):\n",
    "        if isinstance(other, Polygon):\n",
    "            return Polygon(*self._pts, *other._pts)\n",
    "        else:\n",
    "            raise TypeError\n",
    "        \n",
    "    def __iadd__(self, other):\n",
    "        if isinstance(other, Polygon):\n",
    "            # self._pts += other._pts\n",
    "            self._pts = self._pts + other._pts\n",
    "            return self\n",
    "        else:\n",
    "            raise TypeError\n",
    "        \n",
    "    def append(self, pt):\n",
    "        self._pts.append(Point(*pt))\n",
    "\n",
    "    def insert(self, index, pt):\n",
    "        self._pts.insert(index, Point(*pt))\n",
    "\n",
    "    def __setitem__(self, s, values):\n",
    "        try:\n",
    "            self._pts[s] = Point(*values) if isinstance(s, int) else \\\n",
    "                [Point(*pt) for pt in values]\n",
    "        except TypeError:\n",
    "            raise TypeError('Uncompatible!')\n",
    "        \n",
    "    def __delitem__(self, s):\n",
    "        del self._pts[s]\n",
    "\n",
    "    def pop(self, s):\n",
    "        return self._pts.pop(s)\n",
    "    \n",
    "\n",
    "p = Polygon((0, 0), Point(1, 1))\n",
    "\n",
    "# print(p) Polygon(Point(x=0, y=0), Point(x=1, y=1))\n",
    "# print( p[::-1]) [Point(x=1, y=1), Point(x=0, y=0)]\n"
   ]
  },
  {
   "cell_type": "code",
   "execution_count": null,
   "metadata": {},
   "outputs": [],
   "source": []
  }
 ],
 "metadata": {
  "kernelspec": {
   "display_name": "Python 3",
   "language": "python",
   "name": "python3"
  },
  "language_info": {
   "codemirror_mode": {
    "name": "ipython",
    "version": 3
   },
   "file_extension": ".py",
   "mimetype": "text/x-python",
   "name": "python",
   "nbconvert_exporter": "python",
   "pygments_lexer": "ipython3",
   "version": "3.10.2"
  },
  "orig_nbformat": 4
 },
 "nbformat": 4,
 "nbformat_minor": 2
}
