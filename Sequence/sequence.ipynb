{
 "cells": [
  {
   "cell_type": "code",
   "execution_count": 3,
   "metadata": {},
   "outputs": [
    {
     "name": "stdout",
     "output_type": "stream",
     "text": [
      "1\n",
      "2\n",
      "3\n",
      "4\n",
      "---\n",
      "1\n",
      "2\n",
      "3\n",
      "4\n"
     ]
    }
   ],
   "source": [
    "nums = [1, 2, 3, 4]\n",
    "\n",
    "for num in nums:\n",
    "    print(num)\n",
    "\n",
    "print('---')\n",
    "\n",
    "index = 0\n",
    "while True:\n",
    "    try:\n",
    "        num = nums.__getitem__(index)\n",
    "        print(num)\n",
    "        index += 1\n",
    "    except IndexError:\n",
    "        break\n"
   ]
  },
  {
   "cell_type": "code",
   "execution_count": 18,
   "metadata": {},
   "outputs": [
    {
     "name": "stdout",
     "output_type": "stream",
     "text": [
      "0\n",
      "---\n",
      "0\n",
      "1\n",
      "2\n",
      "3\n",
      "4\n",
      "---\n",
      "0\n",
      "1\n",
      "2\n",
      "3\n",
      "4\n"
     ]
    }
   ],
   "source": [
    "class Sequence:\n",
    "    def __init__(self, length):\n",
    "        self.length = length\n",
    "\n",
    "    def __len__(self):\n",
    "        return self.length\n",
    "\n",
    "    def __getitem__(self, index):\n",
    "        if index >= len(self) or index < -len(self):\n",
    "            raise IndexError\n",
    "        return index\n",
    "\n",
    "\n",
    "s = Sequence(5)\n",
    "\n",
    "print(s[0])\n",
    "# print(s[100]) --> IndexError\n",
    "# print(s[-100]) --> IndexError\n",
    "\n",
    "print('---')\n",
    "\n",
    "for index in s:\n",
    "    print(index)\n",
    "\n",
    "print('---')\n",
    "\n",
    "for index in s:\n",
    "    print(index)\n"
   ]
  },
  {
   "cell_type": "code",
   "execution_count": 15,
   "metadata": {},
   "outputs": [
    {
     "name": "stdout",
     "output_type": "stream",
     "text": [
      "<class 'slice'>\n",
      "(0, 3, 1)\n",
      "(0, 5, 1)\n",
      "<class 'tuple'>\n",
      "[0, 1, 2, 3, 4]\n"
     ]
    }
   ],
   "source": [
    "print(type(slice(None, None, -1)))\n",
    "print(slice(0, 5).indices(3))\n",
    "print(slice(0, 5).indices(8))\n",
    "print(type(slice(0, 5).indices(8)))\n",
    "\n",
    "print(list(range(*slice(0, 5).indices(8))))\n"
   ]
  },
  {
   "cell_type": "code",
   "execution_count": 18,
   "metadata": {},
   "outputs": [
    {
     "name": "stdout",
     "output_type": "stream",
     "text": [
      "[1, 1, 2, 3, 5, 8, 13, 21, 34, 55]\n",
      "55\n",
      "[1, 1, 2, 3, 5]\n"
     ]
    }
   ],
   "source": [
    "from functools import lru_cache\n",
    "\n",
    "\n",
    "class Fib:\n",
    "    def __init__(self, n):\n",
    "        self.n = n\n",
    "\n",
    "    @staticmethod\n",
    "    @lru_cache(2 ** 10)\n",
    "    def fib(n):\n",
    "        if n < 2: return 1\n",
    "        return Fib.fib(n - 1) + Fib.fib(n - 2)\n",
    "\n",
    "    def __len__(self):\n",
    "        return self.n\n",
    "    \n",
    "    def __getitem__(self, index):\n",
    "        if isinstance(index, int):\n",
    "            if index < 0:\n",
    "                index += len(self)\n",
    "            if index < 0 or index >= len(self):\n",
    "                raise IndexError\n",
    "            return Fib.fib(index)\n",
    "        else:\n",
    "            # slice.indicies(length) --> tuple\n",
    "            # list(range(tuple))\n",
    "            return [Fib.fib(value) for value in range(*index.indices(len(self)))]\n",
    "    \n",
    "\n",
    "f = Fib(10)\n",
    "\n",
    "print(list(f))\n",
    "print(f[-1])\n",
    "\n",
    "print(f[0:5])"
   ]
  },
  {
   "cell_type": "code",
   "execution_count": null,
   "metadata": {},
   "outputs": [],
   "source": []
  }
 ],
 "metadata": {
  "kernelspec": {
   "display_name": "Python 3",
   "language": "python",
   "name": "python3"
  },
  "language_info": {
   "codemirror_mode": {
    "name": "ipython",
    "version": 3
   },
   "file_extension": ".py",
   "mimetype": "text/x-python",
   "name": "python",
   "nbconvert_exporter": "python",
   "pygments_lexer": "ipython3",
   "version": "3.10.2"
  },
  "orig_nbformat": 4
 },
 "nbformat": 4,
 "nbformat_minor": 2
}
