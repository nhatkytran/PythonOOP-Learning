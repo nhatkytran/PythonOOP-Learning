{
 "cells": [
  {
   "cell_type": "code",
   "execution_count": 2,
   "metadata": {},
   "outputs": [
    {
     "name": "stdout",
     "output_type": "stream",
     "text": [
      "<generator object gen_f at 0x104e052a0>\n",
      "0\n",
      "1\n",
      "2\n",
      "3\n",
      "4\n"
     ]
    },
    {
     "ename": "StopIteration",
     "evalue": "",
     "output_type": "error",
     "traceback": [
      "\u001b[0;31m---------------------------------------------------------------------------\u001b[0m",
      "\u001b[0;31mStopIteration\u001b[0m                             Traceback (most recent call last)",
      "\u001b[1;32m/Users/trannhatky/Desktop/PythonOOP/Generator/generator.ipynb Cell 1\u001b[0m in \u001b[0;36m1\n\u001b[1;32m     <a href='vscode-notebook-cell:/Users/trannhatky/Desktop/PythonOOP/Generator/generator.ipynb#W0sZmlsZQ%3D%3D?line=9'>10</a>\u001b[0m \u001b[39mfor\u001b[39;00m number \u001b[39min\u001b[39;00m gen:\n\u001b[1;32m     <a href='vscode-notebook-cell:/Users/trannhatky/Desktop/PythonOOP/Generator/generator.ipynb#W0sZmlsZQ%3D%3D?line=10'>11</a>\u001b[0m     \u001b[39mprint\u001b[39m(number)\n\u001b[0;32m---> <a href='vscode-notebook-cell:/Users/trannhatky/Desktop/PythonOOP/Generator/generator.ipynb#W0sZmlsZQ%3D%3D?line=12'>13</a>\u001b[0m \u001b[39mprint\u001b[39m(\u001b[39mnext\u001b[39;49m(gen))\n",
      "\u001b[0;31mStopIteration\u001b[0m: "
     ]
    }
   ],
   "source": [
    "# 1. Yielding and Generator Functions\n",
    "\n",
    "def gen_f():\n",
    "    for i in range(5):\n",
    "        yield i\n",
    "\n",
    "\n",
    "gen = gen_f()\n",
    "\n",
    "print(gen)\n",
    "\n",
    "for number in gen:\n",
    "    print(number)\n",
    "\n",
    "print(next(gen))\n"
   ]
  },
  {
   "cell_type": "code",
   "execution_count": 3,
   "metadata": {},
   "outputs": [
    {
     "name": "stdout",
     "output_type": "stream",
     "text": [
      "0\n",
      "1\n",
      "2\n",
      "3\n",
      "4\n"
     ]
    }
   ],
   "source": [
    "def gen_f():\n",
    "    i = 0\n",
    "    while True:\n",
    "        if i == 5: return\n",
    "        yield i\n",
    "        i += 1\n",
    "\n",
    "\n",
    "gen = gen_f()\n",
    "\n",
    "for number in gen:\n",
    "    print(number)\n"
   ]
  },
  {
   "cell_type": "code",
   "execution_count": 4,
   "metadata": {},
   "outputs": [
    {
     "name": "stdout",
     "output_type": "stream",
     "text": [
      "---\n",
      "line 1\n",
      "I'm a lumberjack and I'm OK\n",
      "---\n",
      "line 2\n",
      "I sleep all night and I work all day\n"
     ]
    }
   ],
   "source": [
    "def song():\n",
    "    print('line 1')\n",
    "    yield 'I\\'m a lumberjack and I\\'m OK'\n",
    "    print('line 2')\n",
    "    yield 'I sleep all night and I work all day'\n",
    "\n",
    "\n",
    "lines = song()\n",
    "\n",
    "print('---')\n",
    "\n",
    "line = next(lines)\n",
    "print(line)\n",
    "\n",
    "print('---')\n",
    "\n",
    "line = next(lines)\n",
    "print(line)\n"
   ]
  },
  {
   "cell_type": "code",
   "execution_count": 1,
   "metadata": {},
   "outputs": [
    {
     "name": "stdout",
     "output_type": "stream",
     "text": [
      "[1, 1, 2, 6, 24]\n"
     ]
    }
   ],
   "source": [
    "# 3 ways --> Iterator\n",
    "\n",
    "import math\n",
    "\n",
    "\n",
    "class FactIter:\n",
    "    def __init__(self, n):\n",
    "        self.n = n\n",
    "        self.index = 0\n",
    "\n",
    "    def __len__(self):\n",
    "        return self.n\n",
    "\n",
    "    def __iter__(self):\n",
    "        return self\n",
    "    \n",
    "    def __next__(self):\n",
    "        if self.index >= len(self):\n",
    "            raise StopIteration\n",
    "        result = math.factorial(self.index)\n",
    "        self.index += 1\n",
    "        return result\n",
    "    \n",
    "\n",
    "f = FactIter(5)\n",
    "\n",
    "print(list(f))"
   ]
  },
  {
   "cell_type": "code",
   "execution_count": 2,
   "metadata": {},
   "outputs": [
    {
     "name": "stdout",
     "output_type": "stream",
     "text": [
      "[1, 1, 2, 6, 24]\n"
     ]
    }
   ],
   "source": [
    "# 3 ways --> iter(callable, sentinel)\n",
    "\n",
    "import math\n",
    "\n",
    "\n",
    "def outer():\n",
    "    index = 0\n",
    "    def inner():\n",
    "        nonlocal index\n",
    "        result = math.factorial(index)\n",
    "        index += 1\n",
    "        return result\n",
    "    return inner\n",
    "\n",
    "\n",
    "f = iter(outer(), math.factorial(5))\n",
    "\n",
    "print(list(f))\n"
   ]
  },
  {
   "cell_type": "code",
   "execution_count": 4,
   "metadata": {},
   "outputs": [
    {
     "name": "stdout",
     "output_type": "stream",
     "text": [
      "[1, 1, 2, 6, 24]\n"
     ]
    }
   ],
   "source": [
    "# 3 ways --> Generator\n",
    "\n",
    "import math\n",
    "\n",
    "\n",
    "def gen_fact(n):\n",
    "    index = 0\n",
    "    while index < n:\n",
    "        yield math.factorial(index)\n",
    "        index += 1\n",
    "\n",
    "\n",
    "f = gen_fact(5)\n",
    "\n",
    "print(list(f))\n"
   ]
  },
  {
   "cell_type": "code",
   "execution_count": 3,
   "metadata": {},
   "outputs": [
    {
     "name": "stdout",
     "output_type": "stream",
     "text": [
      "0.39543538100042497\n"
     ]
    }
   ],
   "source": [
    "# 2. Fibonacci Sequence Example\n",
    "\n",
    "from timeit import timeit\n",
    "\n",
    "\n",
    "def fib(n):\n",
    "    if n <= 1:\n",
    "        return 1\n",
    "    return fib(n - 1) + fib(n - 2)\n",
    "\n",
    "\n",
    "print(timeit('fib(25)', globals=globals(), number=10))\n"
   ]
  },
  {
   "cell_type": "code",
   "execution_count": 6,
   "metadata": {},
   "outputs": [
    {
     "name": "stdout",
     "output_type": "stream",
     "text": [
      "2.022099943133071e-05\n"
     ]
    },
    {
     "ename": "RecursionError",
     "evalue": "maximum recursion depth exceeded in comparison",
     "output_type": "error",
     "traceback": [
      "\u001b[0;31m---------------------------------------------------------------------------\u001b[0m",
      "\u001b[0;31mRecursionError\u001b[0m                            Traceback (most recent call last)",
      "\u001b[1;32m/Users/trannhatky/Desktop/PythonOOP/Generator/generator.ipynb Cell 8\u001b[0m in \u001b[0;36m1\n\u001b[1;32m      <a href='vscode-notebook-cell:/Users/trannhatky/Desktop/PythonOOP/Generator/generator.ipynb#X10sZmlsZQ%3D%3D?line=8'>9</a>\u001b[0m     \u001b[39mreturn\u001b[39;00m fib(n \u001b[39m-\u001b[39m \u001b[39m1\u001b[39m) \u001b[39m+\u001b[39m fib(n \u001b[39m-\u001b[39m \u001b[39m2\u001b[39m)\n\u001b[1;32m     <a href='vscode-notebook-cell:/Users/trannhatky/Desktop/PythonOOP/Generator/generator.ipynb#X10sZmlsZQ%3D%3D?line=11'>12</a>\u001b[0m \u001b[39mprint\u001b[39m(timeit(\u001b[39m'\u001b[39m\u001b[39mfib(25)\u001b[39m\u001b[39m'\u001b[39m, \u001b[39mglobals\u001b[39m\u001b[39m=\u001b[39m\u001b[39mglobals\u001b[39m(), number\u001b[39m=\u001b[39m\u001b[39m10\u001b[39m))\n\u001b[0;32m---> <a href='vscode-notebook-cell:/Users/trannhatky/Desktop/PythonOOP/Generator/generator.ipynb#X10sZmlsZQ%3D%3D?line=12'>13</a>\u001b[0m \u001b[39mprint\u001b[39m(timeit(\u001b[39m'\u001b[39;49m\u001b[39mfib(10000)\u001b[39;49m\u001b[39m'\u001b[39;49m, \u001b[39mglobals\u001b[39;49m\u001b[39m=\u001b[39;49m\u001b[39mglobals\u001b[39;49m(), number\u001b[39m=\u001b[39;49m\u001b[39m10\u001b[39;49m))\n",
      "File \u001b[0;32m/Library/Frameworks/Python.framework/Versions/3.10/lib/python3.10/timeit.py:234\u001b[0m, in \u001b[0;36mtimeit\u001b[0;34m(stmt, setup, timer, number, globals)\u001b[0m\n\u001b[1;32m    231\u001b[0m \u001b[39mdef\u001b[39;00m \u001b[39mtimeit\u001b[39m(stmt\u001b[39m=\u001b[39m\u001b[39m\"\u001b[39m\u001b[39mpass\u001b[39m\u001b[39m\"\u001b[39m, setup\u001b[39m=\u001b[39m\u001b[39m\"\u001b[39m\u001b[39mpass\u001b[39m\u001b[39m\"\u001b[39m, timer\u001b[39m=\u001b[39mdefault_timer,\n\u001b[1;32m    232\u001b[0m            number\u001b[39m=\u001b[39mdefault_number, \u001b[39mglobals\u001b[39m\u001b[39m=\u001b[39m\u001b[39mNone\u001b[39;00m):\n\u001b[1;32m    233\u001b[0m     \u001b[39m\"\"\"Convenience function to create Timer object and call timeit method.\"\"\"\u001b[39;00m\n\u001b[0;32m--> 234\u001b[0m     \u001b[39mreturn\u001b[39;00m Timer(stmt, setup, timer, \u001b[39mglobals\u001b[39;49m)\u001b[39m.\u001b[39;49mtimeit(number)\n",
      "File \u001b[0;32m/Library/Frameworks/Python.framework/Versions/3.10/lib/python3.10/timeit.py:178\u001b[0m, in \u001b[0;36mTimer.timeit\u001b[0;34m(self, number)\u001b[0m\n\u001b[1;32m    176\u001b[0m gc\u001b[39m.\u001b[39mdisable()\n\u001b[1;32m    177\u001b[0m \u001b[39mtry\u001b[39;00m:\n\u001b[0;32m--> 178\u001b[0m     timing \u001b[39m=\u001b[39m \u001b[39mself\u001b[39;49m\u001b[39m.\u001b[39;49minner(it, \u001b[39mself\u001b[39;49m\u001b[39m.\u001b[39;49mtimer)\n\u001b[1;32m    179\u001b[0m \u001b[39mfinally\u001b[39;00m:\n\u001b[1;32m    180\u001b[0m     \u001b[39mif\u001b[39;00m gcold:\n",
      "File \u001b[0;32m<timeit-src>:6\u001b[0m, in \u001b[0;36minner\u001b[0;34m(_it, _timer)\u001b[0m\n",
      "\u001b[1;32m/Users/trannhatky/Desktop/PythonOOP/Generator/generator.ipynb Cell 8\u001b[0m in \u001b[0;36m9\n\u001b[1;32m      <a href='vscode-notebook-cell:/Users/trannhatky/Desktop/PythonOOP/Generator/generator.ipynb#X10sZmlsZQ%3D%3D?line=6'>7</a>\u001b[0m \u001b[39mif\u001b[39;00m n \u001b[39m<\u001b[39m\u001b[39m=\u001b[39m \u001b[39m1\u001b[39m:\n\u001b[1;32m      <a href='vscode-notebook-cell:/Users/trannhatky/Desktop/PythonOOP/Generator/generator.ipynb#X10sZmlsZQ%3D%3D?line=7'>8</a>\u001b[0m     \u001b[39mreturn\u001b[39;00m \u001b[39m1\u001b[39m\n\u001b[0;32m----> <a href='vscode-notebook-cell:/Users/trannhatky/Desktop/PythonOOP/Generator/generator.ipynb#X10sZmlsZQ%3D%3D?line=8'>9</a>\u001b[0m \u001b[39mreturn\u001b[39;00m fib(n \u001b[39m-\u001b[39;49m \u001b[39m1\u001b[39;49m) \u001b[39m+\u001b[39m fib(n \u001b[39m-\u001b[39m \u001b[39m2\u001b[39m)\n",
      "\u001b[1;32m/Users/trannhatky/Desktop/PythonOOP/Generator/generator.ipynb Cell 8\u001b[0m in \u001b[0;36m9\n\u001b[1;32m      <a href='vscode-notebook-cell:/Users/trannhatky/Desktop/PythonOOP/Generator/generator.ipynb#X10sZmlsZQ%3D%3D?line=6'>7</a>\u001b[0m \u001b[39mif\u001b[39;00m n \u001b[39m<\u001b[39m\u001b[39m=\u001b[39m \u001b[39m1\u001b[39m:\n\u001b[1;32m      <a href='vscode-notebook-cell:/Users/trannhatky/Desktop/PythonOOP/Generator/generator.ipynb#X10sZmlsZQ%3D%3D?line=7'>8</a>\u001b[0m     \u001b[39mreturn\u001b[39;00m \u001b[39m1\u001b[39m\n\u001b[0;32m----> <a href='vscode-notebook-cell:/Users/trannhatky/Desktop/PythonOOP/Generator/generator.ipynb#X10sZmlsZQ%3D%3D?line=8'>9</a>\u001b[0m \u001b[39mreturn\u001b[39;00m fib(n \u001b[39m-\u001b[39;49m \u001b[39m1\u001b[39;49m) \u001b[39m+\u001b[39m fib(n \u001b[39m-\u001b[39m \u001b[39m2\u001b[39m)\n",
      "    \u001b[0;31m[... skipping similar frames: fib at line 9 (1481 times)]\u001b[0m\n",
      "\u001b[1;32m/Users/trannhatky/Desktop/PythonOOP/Generator/generator.ipynb Cell 8\u001b[0m in \u001b[0;36m9\n\u001b[1;32m      <a href='vscode-notebook-cell:/Users/trannhatky/Desktop/PythonOOP/Generator/generator.ipynb#X10sZmlsZQ%3D%3D?line=6'>7</a>\u001b[0m \u001b[39mif\u001b[39;00m n \u001b[39m<\u001b[39m\u001b[39m=\u001b[39m \u001b[39m1\u001b[39m:\n\u001b[1;32m      <a href='vscode-notebook-cell:/Users/trannhatky/Desktop/PythonOOP/Generator/generator.ipynb#X10sZmlsZQ%3D%3D?line=7'>8</a>\u001b[0m     \u001b[39mreturn\u001b[39;00m \u001b[39m1\u001b[39m\n\u001b[0;32m----> <a href='vscode-notebook-cell:/Users/trannhatky/Desktop/PythonOOP/Generator/generator.ipynb#X10sZmlsZQ%3D%3D?line=8'>9</a>\u001b[0m \u001b[39mreturn\u001b[39;00m fib(n \u001b[39m-\u001b[39;49m \u001b[39m1\u001b[39;49m) \u001b[39m+\u001b[39m fib(n \u001b[39m-\u001b[39m \u001b[39m2\u001b[39m)\n",
      "\u001b[1;32m/Users/trannhatky/Desktop/PythonOOP/Generator/generator.ipynb Cell 8\u001b[0m in \u001b[0;36m7\n\u001b[1;32m      <a href='vscode-notebook-cell:/Users/trannhatky/Desktop/PythonOOP/Generator/generator.ipynb#X10sZmlsZQ%3D%3D?line=4'>5</a>\u001b[0m \u001b[39m@lru_cache\u001b[39m()\n\u001b[1;32m      <a href='vscode-notebook-cell:/Users/trannhatky/Desktop/PythonOOP/Generator/generator.ipynb#X10sZmlsZQ%3D%3D?line=5'>6</a>\u001b[0m \u001b[39mdef\u001b[39;00m \u001b[39mfib\u001b[39m(n):\n\u001b[0;32m----> <a href='vscode-notebook-cell:/Users/trannhatky/Desktop/PythonOOP/Generator/generator.ipynb#X10sZmlsZQ%3D%3D?line=6'>7</a>\u001b[0m     \u001b[39mif\u001b[39;00m n \u001b[39m<\u001b[39;49m\u001b[39m=\u001b[39;49m \u001b[39m1\u001b[39;49m:\n\u001b[1;32m      <a href='vscode-notebook-cell:/Users/trannhatky/Desktop/PythonOOP/Generator/generator.ipynb#X10sZmlsZQ%3D%3D?line=7'>8</a>\u001b[0m         \u001b[39mreturn\u001b[39;00m \u001b[39m1\u001b[39m\n\u001b[1;32m      <a href='vscode-notebook-cell:/Users/trannhatky/Desktop/PythonOOP/Generator/generator.ipynb#X10sZmlsZQ%3D%3D?line=8'>9</a>\u001b[0m     \u001b[39mreturn\u001b[39;00m fib(n \u001b[39m-\u001b[39m \u001b[39m1\u001b[39m) \u001b[39m+\u001b[39m fib(n \u001b[39m-\u001b[39m \u001b[39m2\u001b[39m)\n",
      "\u001b[0;31mRecursionError\u001b[0m: maximum recursion depth exceeded in comparison"
     ]
    }
   ],
   "source": [
    "from timeit import timeit\n",
    "from functools import lru_cache\n",
    "\n",
    "\n",
    "@lru_cache()\n",
    "def fib(n):\n",
    "    if n <= 1:\n",
    "        return 1\n",
    "    return fib(n - 1) + fib(n - 2)\n",
    "\n",
    "\n",
    "print(timeit('fib(25)', globals=globals(), number=10))\n",
    "print(timeit('fib(10000)', globals=globals(), number=10))\n"
   ]
  },
  {
   "cell_type": "code",
   "execution_count": 11,
   "metadata": {},
   "outputs": [
    {
     "name": "stdout",
     "output_type": "stream",
     "text": [
      "21\n",
      "6.938099977560341e-05\n"
     ]
    }
   ],
   "source": [
    "from timeit import timeit\n",
    "\n",
    "\n",
    "def fib(n):\n",
    "    fib_0, fib_1 = 1, 1\n",
    "    for _ in range(n - 1):\n",
    "        fib_0, fib_1 = fib_1, fib_0 + fib_1\n",
    "    return fib_1\n",
    "\n",
    "\n",
    "print(fib(7))\n",
    "print(timeit('fib(100)', globals=globals(), number=10))\n"
   ]
  },
  {
   "cell_type": "code",
   "execution_count": 16,
   "metadata": {},
   "outputs": [
    {
     "name": "stdout",
     "output_type": "stream",
     "text": [
      "0.41672107500198763\n",
      "0.0023258609980985057\n"
     ]
    }
   ],
   "source": [
    "from timeit import timeit\n",
    "\n",
    "\n",
    "def fib(n):\n",
    "    fib_0, fib_1 = 1, 1\n",
    "    for _ in range(n - 1):\n",
    "        fib_0, fib_1 = fib_1, fib_0 + fib_1\n",
    "    return fib_1\n",
    "\n",
    "\n",
    "class FibIter:\n",
    "    def __init__(self, n):\n",
    "        self.n = n\n",
    "        self.index = 0\n",
    "\n",
    "    def __iter__(self):\n",
    "        return self\n",
    "    \n",
    "    def __next__(self):\n",
    "        if self.index >= self.n:\n",
    "            raise StopIteration\n",
    "        result = fib(self.index)\n",
    "        self.index += 1\n",
    "        return result\n",
    "    \n",
    "\n",
    "print(timeit('[number for number in FibIter(1000)]', globals=globals(), number=10))\n",
    "\n",
    "\n",
    "def gen_fib(n):\n",
    "    fib_0, fib_1 = 1, 1\n",
    "    for _ in range(n - 1):\n",
    "        fib_0, fib_1 = fib_1, fib_0 + fib_1\n",
    "        yield fib_1\n",
    "\n",
    "\n",
    "print(timeit('[number for number in gen_fib(1000)]', globals=globals(), number=10))\n"
   ]
  },
  {
   "cell_type": "code",
   "execution_count": 18,
   "metadata": {},
   "outputs": [
    {
     "name": "stdout",
     "output_type": "stream",
     "text": [
      "[1, 1, 2, 3, 5, 8, 13, 21]\n"
     ]
    }
   ],
   "source": [
    "def gen_fib(n):\n",
    "    fib_0 = 1\n",
    "    yield fib_0\n",
    "    fib_1 = 1\n",
    "    yield fib_1\n",
    "    for _ in range(n - 1):\n",
    "        fib_0, fib_1 = fib_1, fib_0 + fib_1\n",
    "        yield fib_1\n",
    "\n",
    "\n",
    "gen = gen_fib(7)\n",
    "\n",
    "print(list(gen))"
   ]
  },
  {
   "cell_type": "code",
   "execution_count": 2,
   "metadata": {},
   "outputs": [
    {
     "name": "stdout",
     "output_type": "stream",
     "text": [
      "0\n",
      "1\n",
      "4\n",
      "9\n",
      "16\n",
      "0\n",
      "1\n",
      "4\n",
      "9\n",
      "16\n"
     ]
    }
   ],
   "source": [
    "# 3. Making an Iterable from a Generator\n",
    "\n",
    "def gen_double(n):\n",
    "    for i in range(n):\n",
    "        yield i ** 2\n",
    "\n",
    "\n",
    "class DoubleIterable:\n",
    "    def __init__(self, n):\n",
    "        self.n = n\n",
    "\n",
    "    def __iter__(self):\n",
    "        return gen_double(self.n)\n",
    "\n",
    "\n",
    "d = DoubleIterable(5)\n",
    "\n",
    "for number in d:\n",
    "    print(number)\n",
    "\n",
    "for number in d:\n",
    "    print(number)\n"
   ]
  },
  {
   "cell_type": "code",
   "execution_count": 3,
   "metadata": {},
   "outputs": [
    {
     "name": "stdout",
     "output_type": "stream",
     "text": [
      "Card(rank=2, suit='Spades')\n",
      "Card(rank=3, suit='Spades')\n",
      "Card(rank=4, suit='Spades')\n",
      "Card(rank=5, suit='Spades')\n",
      "Card(rank=6, suit='Spades')\n",
      "Card(rank=7, suit='Spades')\n",
      "Card(rank=8, suit='Spades')\n",
      "Card(rank=9, suit='Spades')\n",
      "Card(rank=10, suit='Spades')\n",
      "Card(rank='J', suit='Spades')\n",
      "Card(rank='Q', suit='Spades')\n",
      "Card(rank='K', suit='Spades')\n",
      "Card(rank='A', suit='Spades')\n",
      "Card(rank=2, suit='Hearts')\n",
      "Card(rank=3, suit='Hearts')\n",
      "Card(rank=4, suit='Hearts')\n",
      "Card(rank=5, suit='Hearts')\n",
      "Card(rank=6, suit='Hearts')\n",
      "Card(rank=7, suit='Hearts')\n",
      "Card(rank=8, suit='Hearts')\n",
      "Card(rank=9, suit='Hearts')\n",
      "Card(rank=10, suit='Hearts')\n",
      "Card(rank='J', suit='Hearts')\n",
      "Card(rank='Q', suit='Hearts')\n",
      "Card(rank='K', suit='Hearts')\n",
      "Card(rank='A', suit='Hearts')\n",
      "Card(rank=2, suit='Dianmonds')\n",
      "Card(rank=3, suit='Dianmonds')\n",
      "Card(rank=4, suit='Dianmonds')\n",
      "Card(rank=5, suit='Dianmonds')\n",
      "Card(rank=6, suit='Dianmonds')\n",
      "Card(rank=7, suit='Dianmonds')\n",
      "Card(rank=8, suit='Dianmonds')\n",
      "Card(rank=9, suit='Dianmonds')\n",
      "Card(rank=10, suit='Dianmonds')\n",
      "Card(rank='J', suit='Dianmonds')\n",
      "Card(rank='Q', suit='Dianmonds')\n",
      "Card(rank='K', suit='Dianmonds')\n",
      "Card(rank='A', suit='Dianmonds')\n",
      "Card(rank=2, suit='Clubs')\n",
      "Card(rank=3, suit='Clubs')\n",
      "Card(rank=4, suit='Clubs')\n",
      "Card(rank=5, suit='Clubs')\n",
      "Card(rank=6, suit='Clubs')\n",
      "Card(rank=7, suit='Clubs')\n",
      "Card(rank=8, suit='Clubs')\n",
      "Card(rank=9, suit='Clubs')\n",
      "Card(rank=10, suit='Clubs')\n",
      "Card(rank='J', suit='Clubs')\n",
      "Card(rank='Q', suit='Clubs')\n",
      "Card(rank='K', suit='Clubs')\n",
      "Card(rank='A', suit='Clubs')\n"
     ]
    }
   ],
   "source": [
    "# 4. Card Deck Example\n",
    "\n",
    "from collections import namedtuple\n",
    "\n",
    "\n",
    "Card = namedtuple('Card', 'rank suit')\n",
    "\n",
    "SUITS = ('Spades', 'Hearts', 'Dianmonds', 'Clubs')\n",
    "RANKS = tuple(range(2, 11)) + tuple('JQKA')\n",
    "\n",
    "\n",
    "def card_gen():\n",
    "    for i in range(len(SUITS) * len(RANKS)):\n",
    "        suit = SUITS[i // len(RANKS)]\n",
    "        rank = RANKS[i % len(RANKS)]\n",
    "        yield Card(rank, suit)\n",
    "\n",
    "\n",
    "cards = card_gen()\n",
    "\n",
    "for card in cards:\n",
    "    print(card)\n"
   ]
  },
  {
   "cell_type": "code",
   "execution_count": 4,
   "metadata": {},
   "outputs": [
    {
     "name": "stdout",
     "output_type": "stream",
     "text": [
      "Card(rank=2, suit='Spades')\n",
      "Card(rank=3, suit='Spades')\n",
      "Card(rank=4, suit='Spades')\n",
      "Card(rank=5, suit='Spades')\n",
      "Card(rank=6, suit='Spades')\n",
      "Card(rank=7, suit='Spades')\n",
      "Card(rank=8, suit='Spades')\n",
      "Card(rank=9, suit='Spades')\n",
      "Card(rank=10, suit='Spades')\n",
      "Card(rank='J', suit='Spades')\n",
      "Card(rank='Q', suit='Spades')\n",
      "Card(rank='K', suit='Spades')\n",
      "Card(rank='A', suit='Spades')\n",
      "Card(rank=2, suit='Hearts')\n",
      "Card(rank=3, suit='Hearts')\n",
      "Card(rank=4, suit='Hearts')\n",
      "Card(rank=5, suit='Hearts')\n",
      "Card(rank=6, suit='Hearts')\n",
      "Card(rank=7, suit='Hearts')\n",
      "Card(rank=8, suit='Hearts')\n",
      "Card(rank=9, suit='Hearts')\n",
      "Card(rank=10, suit='Hearts')\n",
      "Card(rank='J', suit='Hearts')\n",
      "Card(rank='Q', suit='Hearts')\n",
      "Card(rank='K', suit='Hearts')\n",
      "Card(rank='A', suit='Hearts')\n",
      "Card(rank=2, suit='Dianmonds')\n",
      "Card(rank=3, suit='Dianmonds')\n",
      "Card(rank=4, suit='Dianmonds')\n",
      "Card(rank=5, suit='Dianmonds')\n",
      "Card(rank=6, suit='Dianmonds')\n",
      "Card(rank=7, suit='Dianmonds')\n",
      "Card(rank=8, suit='Dianmonds')\n",
      "Card(rank=9, suit='Dianmonds')\n",
      "Card(rank=10, suit='Dianmonds')\n",
      "Card(rank='J', suit='Dianmonds')\n",
      "Card(rank='Q', suit='Dianmonds')\n",
      "Card(rank='K', suit='Dianmonds')\n",
      "Card(rank='A', suit='Dianmonds')\n",
      "Card(rank=2, suit='Clubs')\n",
      "Card(rank=3, suit='Clubs')\n",
      "Card(rank=4, suit='Clubs')\n",
      "Card(rank=5, suit='Clubs')\n",
      "Card(rank=6, suit='Clubs')\n",
      "Card(rank=7, suit='Clubs')\n",
      "Card(rank=8, suit='Clubs')\n",
      "Card(rank=9, suit='Clubs')\n",
      "Card(rank=10, suit='Clubs')\n",
      "Card(rank='J', suit='Clubs')\n",
      "Card(rank='Q', suit='Clubs')\n",
      "Card(rank='K', suit='Clubs')\n",
      "Card(rank='A', suit='Clubs')\n"
     ]
    }
   ],
   "source": [
    "from collections import namedtuple\n",
    "\n",
    "\n",
    "Card = namedtuple('Card', 'rank suit')\n",
    "\n",
    "SUITS = ('Spades', 'Hearts', 'Dianmonds', 'Clubs')\n",
    "RANKS = tuple(range(2, 11)) + tuple('JQKA')\n",
    "\n",
    "\n",
    "def card_gen():\n",
    "    for suit in SUITS:\n",
    "        for rank in RANKS:\n",
    "            yield Card(rank, suit)\n",
    "\n",
    "\n",
    "cards = card_gen()\n",
    "\n",
    "for card in cards:\n",
    "    print(card)\n"
   ]
  },
  {
   "cell_type": "code",
   "execution_count": 6,
   "metadata": {},
   "outputs": [
    {
     "name": "stdout",
     "output_type": "stream",
     "text": [
      "[Card(rank=2, suit='Spades'), Card(rank=3, suit='Spades'), Card(rank=4, suit='Spades'), Card(rank=5, suit='Spades'), Card(rank=6, suit='Spades'), Card(rank=7, suit='Spades'), Card(rank=8, suit='Spades'), Card(rank=9, suit='Spades'), Card(rank=10, suit='Spades'), Card(rank='J', suit='Spades'), Card(rank='Q', suit='Spades'), Card(rank='K', suit='Spades'), Card(rank='A', suit='Spades'), Card(rank=2, suit='Hearts'), Card(rank=3, suit='Hearts'), Card(rank=4, suit='Hearts'), Card(rank=5, suit='Hearts'), Card(rank=6, suit='Hearts'), Card(rank=7, suit='Hearts'), Card(rank=8, suit='Hearts'), Card(rank=9, suit='Hearts'), Card(rank=10, suit='Hearts'), Card(rank='J', suit='Hearts'), Card(rank='Q', suit='Hearts'), Card(rank='K', suit='Hearts'), Card(rank='A', suit='Hearts'), Card(rank=2, suit='Dianmonds'), Card(rank=3, suit='Dianmonds'), Card(rank=4, suit='Dianmonds'), Card(rank=5, suit='Dianmonds'), Card(rank=6, suit='Dianmonds'), Card(rank=7, suit='Dianmonds'), Card(rank=8, suit='Dianmonds'), Card(rank=9, suit='Dianmonds'), Card(rank=10, suit='Dianmonds'), Card(rank='J', suit='Dianmonds'), Card(rank='Q', suit='Dianmonds'), Card(rank='K', suit='Dianmonds'), Card(rank='A', suit='Dianmonds'), Card(rank=2, suit='Clubs'), Card(rank=3, suit='Clubs'), Card(rank=4, suit='Clubs'), Card(rank=5, suit='Clubs'), Card(rank=6, suit='Clubs'), Card(rank=7, suit='Clubs'), Card(rank=8, suit='Clubs'), Card(rank=9, suit='Clubs'), Card(rank=10, suit='Clubs'), Card(rank='J', suit='Clubs'), Card(rank='Q', suit='Clubs'), Card(rank='K', suit='Clubs'), Card(rank='A', suit='Clubs')]\n",
      "[Card(rank=2, suit='Spades'), Card(rank=3, suit='Spades'), Card(rank=4, suit='Spades'), Card(rank=5, suit='Spades'), Card(rank=6, suit='Spades'), Card(rank=7, suit='Spades'), Card(rank=8, suit='Spades'), Card(rank=9, suit='Spades'), Card(rank=10, suit='Spades'), Card(rank='J', suit='Spades'), Card(rank='Q', suit='Spades'), Card(rank='K', suit='Spades'), Card(rank='A', suit='Spades'), Card(rank=2, suit='Hearts'), Card(rank=3, suit='Hearts'), Card(rank=4, suit='Hearts'), Card(rank=5, suit='Hearts'), Card(rank=6, suit='Hearts'), Card(rank=7, suit='Hearts'), Card(rank=8, suit='Hearts'), Card(rank=9, suit='Hearts'), Card(rank=10, suit='Hearts'), Card(rank='J', suit='Hearts'), Card(rank='Q', suit='Hearts'), Card(rank='K', suit='Hearts'), Card(rank='A', suit='Hearts'), Card(rank=2, suit='Dianmonds'), Card(rank=3, suit='Dianmonds'), Card(rank=4, suit='Dianmonds'), Card(rank=5, suit='Dianmonds'), Card(rank=6, suit='Dianmonds'), Card(rank=7, suit='Dianmonds'), Card(rank=8, suit='Dianmonds'), Card(rank=9, suit='Dianmonds'), Card(rank=10, suit='Dianmonds'), Card(rank='J', suit='Dianmonds'), Card(rank='Q', suit='Dianmonds'), Card(rank='K', suit='Dianmonds'), Card(rank='A', suit='Dianmonds'), Card(rank=2, suit='Clubs'), Card(rank=3, suit='Clubs'), Card(rank=4, suit='Clubs'), Card(rank=5, suit='Clubs'), Card(rank=6, suit='Clubs'), Card(rank=7, suit='Clubs'), Card(rank=8, suit='Clubs'), Card(rank=9, suit='Clubs'), Card(rank=10, suit='Clubs'), Card(rank='J', suit='Clubs'), Card(rank='Q', suit='Clubs'), Card(rank='K', suit='Clubs'), Card(rank='A', suit='Clubs')]\n"
     ]
    }
   ],
   "source": [
    "from collections import namedtuple\n",
    "\n",
    "\n",
    "Card = namedtuple('Card', 'rank suit')\n",
    "\n",
    "SUITS = ('Spades', 'Hearts', 'Dianmonds', 'Clubs')\n",
    "RANKS = tuple(range(2, 11)) + tuple('JQKA')\n",
    "\n",
    "\n",
    "def card_gen():\n",
    "    for suit in SUITS:\n",
    "        for rank in RANKS:\n",
    "            yield Card(rank, suit)\n",
    "\n",
    "\n",
    "class CardDeck:\n",
    "    def __iter__(self):\n",
    "        return card_gen()\n",
    "\n",
    "\n",
    "cards = CardDeck()\n",
    "\n",
    "print(list(cards))\n",
    "print(list(cards))\n"
   ]
  },
  {
   "cell_type": "code",
   "execution_count": 1,
   "metadata": {},
   "outputs": [
    {
     "name": "stdout",
     "output_type": "stream",
     "text": [
      "[Card(rank='A', suit='Clubs'), Card(rank='K', suit='Clubs'), Card(rank='Q', suit='Clubs'), Card(rank='J', suit='Clubs'), Card(rank=10, suit='Clubs'), Card(rank=9, suit='Clubs'), Card(rank=8, suit='Clubs'), Card(rank=7, suit='Clubs'), Card(rank=6, suit='Clubs'), Card(rank=5, suit='Clubs'), Card(rank=4, suit='Clubs'), Card(rank=3, suit='Clubs'), Card(rank=2, suit='Clubs'), Card(rank='A', suit='Dianmonds'), Card(rank='K', suit='Dianmonds'), Card(rank='Q', suit='Dianmonds'), Card(rank='J', suit='Dianmonds'), Card(rank=10, suit='Dianmonds'), Card(rank=9, suit='Dianmonds'), Card(rank=8, suit='Dianmonds'), Card(rank=7, suit='Dianmonds'), Card(rank=6, suit='Dianmonds'), Card(rank=5, suit='Dianmonds'), Card(rank=4, suit='Dianmonds'), Card(rank=3, suit='Dianmonds'), Card(rank=2, suit='Dianmonds'), Card(rank='A', suit='Hearts'), Card(rank='K', suit='Hearts'), Card(rank='Q', suit='Hearts'), Card(rank='J', suit='Hearts'), Card(rank=10, suit='Hearts'), Card(rank=9, suit='Hearts'), Card(rank=8, suit='Hearts'), Card(rank=7, suit='Hearts'), Card(rank=6, suit='Hearts'), Card(rank=5, suit='Hearts'), Card(rank=4, suit='Hearts'), Card(rank=3, suit='Hearts'), Card(rank=2, suit='Hearts'), Card(rank='A', suit='Spades'), Card(rank='K', suit='Spades'), Card(rank='Q', suit='Spades'), Card(rank='J', suit='Spades'), Card(rank=10, suit='Spades'), Card(rank=9, suit='Spades'), Card(rank=8, suit='Spades'), Card(rank=7, suit='Spades'), Card(rank=6, suit='Spades'), Card(rank=5, suit='Spades'), Card(rank=4, suit='Spades'), Card(rank=3, suit='Spades'), Card(rank=2, suit='Spades')]\n"
     ]
    }
   ],
   "source": [
    "from collections import namedtuple\n",
    "\n",
    "\n",
    "Card = namedtuple('Card', 'rank suit')\n",
    "\n",
    "SUITS = ('Spades', 'Hearts', 'Dianmonds', 'Clubs')\n",
    "RANKS = tuple(range(2, 11)) + tuple('JQKA')\n",
    "\n",
    "\n",
    "def card_gen():\n",
    "    for suit in SUITS:\n",
    "        for rank in RANKS:\n",
    "            yield Card(rank, suit)\n",
    "\n",
    "\n",
    "def card_gen_reversed():\n",
    "    for suit in reversed(SUITS):\n",
    "        for rank in reversed(RANKS):\n",
    "            yield Card(rank, suit)\n",
    "\n",
    "\n",
    "class CardDeck:\n",
    "    def __iter__(self):\n",
    "        return card_gen()\n",
    "    \n",
    "    def __reversed__(self):\n",
    "        return card_gen_reversed()\n",
    "\n",
    "\n",
    "cards = CardDeck()\n",
    "\n",
    "print(list(reversed(cards)))\n"
   ]
  },
  {
   "cell_type": "code",
   "execution_count": 1,
   "metadata": {},
   "outputs": [
    {
     "name": "stdout",
     "output_type": "stream",
     "text": [
      "[1, 2, 3]\n"
     ]
    }
   ],
   "source": [
    "def gen_func():\n",
    "    yield from [1, 2, 3]\n",
    "\n",
    "\n",
    "gen = gen_func()\n",
    "\n",
    "print(list(gen))\n"
   ]
  },
  {
   "cell_type": "code",
   "execution_count": 3,
   "metadata": {},
   "outputs": [
    {
     "name": "stdout",
     "output_type": "stream",
     "text": [
      "['Alfa Romeo', 'Aston Martin', 'Audi', 'Bentley', 'Benz', 'BMW', 'Bugatti', 'Cadillac', 'Chevrolet', 'Chrysler', 'Corvette', 'DAF', 'Dacia', 'Daewoo', 'Daihatsu', 'Datsun', 'De Lorean', 'Dino', 'Dodge', 'Farboud', 'Ferrari', 'Fiat', 'Ford', 'Honda', 'Hummer', 'Hyundai', 'Jaguar', 'Jeep', 'KIA', 'Koenigsegg', 'Lada', 'Lamborghini', 'Lancia', 'Land Rover', 'Lexus', 'Ligier', 'Lincoln', 'Lotus', 'Martini', 'Maserati', 'Maybach', 'Mazda', 'McLaren', 'Mercedes-Benz', 'Mini', 'Mitsubishi', 'Nissan', 'Noble', 'Opel', 'Peugeot', 'Pontiac', 'Porsche', 'Renault', 'Rolls-Royce', 'Saab', 'Seat', 'Škoda', 'Smart', 'Spyker', 'Subaru', 'Suzuki', 'Toyota', 'Vauxhall', 'Volkswagen', 'Volvo']\n"
     ]
    }
   ],
   "source": [
    "files = [\n",
    "    'car-brands-1.txt',\n",
    "    'car-brands-2.txt',\n",
    "    'car-brands-3.txt'\n",
    "]\n",
    "\n",
    "\n",
    "def gen_clean_func(file):\n",
    "    with open(file) as f:\n",
    "        for row in f:\n",
    "            yield row.strip('\\n')\n",
    "\n",
    "\n",
    "def gen_func(*files):\n",
    "    for file in files:\n",
    "        yield from gen_clean_func(file)\n",
    "\n",
    "\n",
    "gen = gen_func(*files)\n",
    "\n",
    "print(list(gen))\n"
   ]
  },
  {
   "cell_type": "code",
   "execution_count": null,
   "metadata": {},
   "outputs": [],
   "source": []
  }
 ],
 "metadata": {
  "kernelspec": {
   "display_name": "Python 3",
   "language": "python",
   "name": "python3"
  },
  "language_info": {
   "codemirror_mode": {
    "name": "ipython",
    "version": 3
   },
   "file_extension": ".py",
   "mimetype": "text/x-python",
   "name": "python",
   "nbconvert_exporter": "python",
   "pygments_lexer": "ipython3",
   "version": "3.10.2"
  },
  "orig_nbformat": 4
 },
 "nbformat": 4,
 "nbformat_minor": 2
}
