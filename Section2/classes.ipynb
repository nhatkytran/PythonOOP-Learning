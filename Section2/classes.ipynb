{
 "cells": [
  {
   "cell_type": "code",
   "execution_count": 8,
   "metadata": {},
   "outputs": [
    {
     "data": {
      "text/plain": [
       "True"
      ]
     },
     "execution_count": 8,
     "metadata": {},
     "output_type": "execute_result"
    }
   ],
   "source": [
    "# 1. Objects and Classes\n",
    "class Person:\n",
    "    pass\n",
    "\n",
    "\n",
    "type(Person)  # type\n",
    "type(type)  # type\n",
    "\n",
    "Person.__name__  # 'Person'\n",
    "\n",
    "p = Person()\n",
    "\n",
    "type(p)  # __main__.Person\n",
    "p.__class__  # __main__.Person\n",
    "isinstance(p, Person)  # True"
   ]
  },
  {
   "cell_type": "code",
   "execution_count": 7,
   "metadata": {},
   "outputs": [
    {
     "data": {
      "text/plain": [
       "'MyClass'"
      ]
     },
     "execution_count": 7,
     "metadata": {},
     "output_type": "execute_result"
    }
   ],
   "source": [
    "# 2. Class Attributes\n",
    "class MyClass:\n",
    "    language = 'Python'\n",
    "    version = 3.6\n",
    "\n",
    "\n",
    "MyClass.__dict__\n",
    "getattr(MyClass, '__name__')  # 'MyClass'"
   ]
  },
  {
   "cell_type": "code",
   "execution_count": 6,
   "metadata": {},
   "outputs": [
    {
     "data": {
      "text/plain": [
       "'Hello from Python'"
      ]
     },
     "execution_count": 6,
     "metadata": {},
     "output_type": "execute_result"
    }
   ],
   "source": [
    "# 3. Callable Class Attributes\n",
    "class Program:\n",
    "    language = 'Python'\n",
    "\n",
    "    def hello():\n",
    "        return f'Hello from {Program.language}'\n",
    "\n",
    "\n",
    "Program.hello()"
   ]
  },
  {
   "cell_type": "code",
   "execution_count": 6,
   "metadata": {},
   "outputs": [
    {
     "data": {
      "text/plain": [
       "True"
      ]
     },
     "execution_count": 6,
     "metadata": {},
     "output_type": "execute_result"
    }
   ],
   "source": [
    "# 4. Classes are Callables\n",
    "class Program:\n",
    "    __class__ = str\n",
    "\n",
    "\n",
    "p = Program()\n",
    "\n",
    "type(p) # __main__.Program\n",
    "p.__class__ # str\n",
    "isinstance(p, Program) # True\n",
    "isinstance(p, str) # True"
   ]
  },
  {
   "cell_type": "code",
   "execution_count": 21,
   "metadata": {},
   "outputs": [
    {
     "data": {
      "text/plain": [
       "'JavaScript'"
      ]
     },
     "execution_count": 21,
     "metadata": {},
     "output_type": "execute_result"
    }
   ],
   "source": [
    "# 5.\n",
    "class Program:\n",
    "    language = 'Python'\n",
    "\n",
    "\n",
    "p = Program()\n",
    "p.language = 'JavaScript'\n",
    "Program.language  # 'Python'\n",
    "p.language  # 'JavaScript'"
   ]
  },
  {
   "cell_type": "code",
   "execution_count": 10,
   "metadata": {},
   "outputs": [
    {
     "data": {
      "text/plain": [
       "'Hello beautiful World!'"
      ]
     },
     "execution_count": 10,
     "metadata": {},
     "output_type": "execute_result"
    }
   ],
   "source": [
    "# 6. Function Attributes\n",
    "class MyClass:\n",
    "    def say_hello(self):\n",
    "        return 'Hello beautiful World!'\n",
    "\n",
    "\n",
    "instance = MyClass()\n",
    "MyClass.say_hello  # function\n",
    "instance.say_hello  # bound method\n",
    "instance.say_hello.__func__  # funciton\n",
    "instance.say_hello.__self__ # instance\n",
    "\n",
    "hello = instance.say_hello\n",
    "hello()  # 'Hello beautiful World!'\n",
    "# hello.__func__(hello.__self__)"
   ]
  },
  {
   "cell_type": "code",
   "execution_count": 1,
   "metadata": {},
   "outputs": [],
   "source": [
    "# 7. Initializing Class Instances"
   ]
  },
  {
   "cell_type": "code",
   "execution_count": 7,
   "metadata": {},
   "outputs": [
    {
     "name": "stdout",
     "output_type": "stream",
     "text": [
      "Alex will teach Math\n",
      "Eric will teach English\n"
     ]
    }
   ],
   "source": [
    "# 8. Creating Attributes at Run-Time\n",
    "from types import MethodType\n",
    "\n",
    "\n",
    "class Person:\n",
    "    def __init__(self, name):\n",
    "        self.name = name\n",
    "\n",
    "\n",
    "p1 = Person('Alex')\n",
    "\n",
    "p1.say_hello = MethodType(lambda self: f'{self.name} says hello!', p1)\n",
    "\n",
    "p1.say_hello()  # 'Alex says hello!'\n",
    "\n",
    "\n",
    "class Teacher:\n",
    "    def __init__(self, name):\n",
    "        self.name = name\n",
    "\n",
    "    def register_do_work(self, fn):\n",
    "        self._do_work = MethodType(fn, self)\n",
    "\n",
    "    def do_work(self):\n",
    "        do_work_method = getattr(self, '_do_work', None)\n",
    "        if do_work_method is None:\n",
    "            raise AttributeError('You must first register do_work')\n",
    "        return do_work_method()\n",
    "\n",
    "\n",
    "math_teacher = Teacher('Alex')\n",
    "math_work = lambda self: f'{self.name} will teach Math'\n",
    "math_teacher.register_do_work(math_work)\n",
    "\n",
    "english_teacher = Teacher('Eric')\n",
    "english_work = lambda self: f'{self.name} will teach English'\n",
    "english_teacher.register_do_work(english_work)\n",
    "\n",
    "for teacher in (math_teacher, english_teacher):\n",
    "    print(teacher.do_work())\n",
    "    \n",
    "# Alex will teach Math\n",
    "#Eric will teach English"
   ]
  },
  {
   "cell_type": "code",
   "execution_count": 18,
   "metadata": {},
   "outputs": [
    {
     "name": "stdout",
     "output_type": "stream",
     "text": [
      "Language setter\n",
      "Language getter\n",
      "Python\n",
      "Language setter\n",
      "Language getter\n",
      "JavaScript\n"
     ]
    }
   ],
   "source": [
    "# 9. Properties\n",
    "class MyClass:\n",
    "    def __init__(self, language):\n",
    "        self.language = language\n",
    "\n",
    "    def get_language(self):\n",
    "        print('Language getter')\n",
    "        return self._language\n",
    "\n",
    "    def set_language(self, language):\n",
    "        print('Language setter')\n",
    "        self._language = language\n",
    "\n",
    "    language = property(fget=get_language, fset=set_language)\n",
    "\n",
    "\n",
    "m = MyClass('Python')\n",
    "\n",
    "print(m.language) # Python\n",
    "m.language = 'JavaScript'\n",
    "print(m.language) # JavaScript"
   ]
  },
  {
   "cell_type": "code",
   "execution_count": 10,
   "metadata": {},
   "outputs": [
    {
     "name": "stdout",
     "output_type": "stream",
     "text": [
      "Language setter\n",
      "Language getter\n",
      "Python\n",
      "Language setter\n",
      "Language getter\n",
      "JavaScript\n"
     ]
    }
   ],
   "source": [
    "# 10. Property Decorators\n",
    "class MyClass:\n",
    "    def __init__(self, language):\n",
    "        self.language = language\n",
    "\n",
    "    @property\n",
    "    def language(self):\n",
    "        print('Language getter')\n",
    "        return self._language\n",
    "\n",
    "    @language.setter\n",
    "    def language(self, language):\n",
    "        print('Language setter')\n",
    "        self._language = language\n",
    "\n",
    "\n",
    "m = MyClass('Python')\n",
    "\n",
    "print(m.language)\n",
    "m.language = 'JavaScript'\n",
    "print(m.language)"
   ]
  },
  {
   "cell_type": "code",
   "execution_count": 8,
   "metadata": {},
   "outputs": [
    {
     "name": "stdout",
     "output_type": "stream",
     "text": [
      "Calcualte area...\n",
      "3.141592653589793\n",
      "3.141592653589793\n",
      "Calcualte area...\n",
      "12.566370614359172\n",
      "12.566370614359172\n"
     ]
    }
   ],
   "source": [
    "# 11. Read-Only and Computed Properties\n",
    "import math\n",
    "\n",
    "\n",
    "class Circle:\n",
    "    def __init__(self, radius):\n",
    "        self._radius = radius\n",
    "        self._area = None\n",
    "\n",
    "    @property\n",
    "    def radius(self):\n",
    "        return self._radius\n",
    "\n",
    "    @radius.setter\n",
    "    def radius(self, value):\n",
    "        self._area = None\n",
    "        self._radius = value\n",
    "\n",
    "    @property\n",
    "    def area(self):\n",
    "        if self._area is None:\n",
    "            print('Calcualte area...')\n",
    "            self._area = math.pi * (self._radius ** 2)\n",
    "        return self._area\n",
    "\n",
    "\n",
    "c = Circle(1)\n",
    "print(c.area)\n",
    "print(c.area)\n",
    "c.radius = 2\n",
    "print(c.area)\n",
    "print(c.area)"
   ]
  },
  {
   "cell_type": "code",
   "execution_count": null,
   "metadata": {},
   "outputs": [],
   "source": [
    "# 12. Deleting Properties\n"
   ]
  }
 ],
 "metadata": {
  "kernelspec": {
   "display_name": "Python 3",
   "language": "python",
   "name": "python3"
  },
  "language_info": {
   "codemirror_mode": {
    "name": "ipython",
    "version": 3
   },
   "file_extension": ".py",
   "mimetype": "text/x-python",
   "name": "python",
   "nbconvert_exporter": "python",
   "pygments_lexer": "ipython3",
   "version": "3.9.5"
  },
  "orig_nbformat": 4,
  "vscode": {
   "interpreter": {
    "hash": "b8bdd4e700647ba2b08c59e5df8b7da1dcf50a218bcd4c1bcd9b3dc92e8788e5"
   }
  }
 },
 "nbformat": 4,
 "nbformat_minor": 2
}
