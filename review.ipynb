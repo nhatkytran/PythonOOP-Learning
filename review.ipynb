{
 "cells": [
  {
   "cell_type": "code",
   "execution_count": 2,
   "metadata": {},
   "outputs": [
    {
     "name": "stdout",
     "output_type": "stream",
     "text": [
      "Frlix says Hello!\n"
     ]
    }
   ],
   "source": [
    "# 6. Callables\n",
    "\n",
    "class Person:\n",
    "    def __init__(self, name):\n",
    "        self.name = name\n",
    "\n",
    "    def __call__(self):\n",
    "        print(f'{self.name} says Hello!')\n",
    "\n",
    "\n",
    "p = Person('Frlix')\n",
    "\n",
    "p()"
   ]
  },
  {
   "cell_type": "code",
   "execution_count": 8,
   "metadata": {},
   "outputs": [
    {
     "name": "stderr",
     "output_type": "stream",
     "text": [
      "Exception ignored in: <function Person.__del__ at 0x107a4a8c0>\n",
      "Traceback (most recent call last):\n",
      "  File \"/var/folders/w_/jsh9p_vx58l0_nm9g3py083h0000gn/T/ipykernel_3824/300828486.py\", line 4, in __del__\n",
      "Exception: Something went wrong!\n"
     ]
    },
    {
     "name": "stdout",
     "output_type": "stream",
     "text": [
      "I am Class Finalizer!\n",
      "I don't care if there was an exception in finalization. Keep running\n"
     ]
    }
   ],
   "source": [
    "# 7. The __del__ method\n",
    "\n",
    "class Person:\n",
    "    def __del__(self):\n",
    "        print('I am Class Finalizer!')\n",
    "        raise Exception('Something went wrong!')\n",
    "\n",
    "\n",
    "p = Person()\n",
    "\n",
    "del p\n",
    "\n",
    "print('I don\\'t care if there was an exception in finalization. Keep running')"
   ]
  },
  {
   "cell_type": "code",
   "execution_count": 9,
   "metadata": {},
   "outputs": [
    {
     "data": {
      "text/plain": [
       "'1'"
      ]
     },
     "execution_count": 9,
     "metadata": {},
     "output_type": "execute_result"
    }
   ],
   "source": [
    "# 8. The __format__ method\n",
    "\n",
    "format(1)"
   ]
  },
  {
   "cell_type": "code",
   "execution_count": null,
   "metadata": {},
   "outputs": [],
   "source": []
  }
 ],
 "metadata": {
  "kernelspec": {
   "display_name": "Python 3",
   "language": "python",
   "name": "python3"
  },
  "language_info": {
   "codemirror_mode": {
    "name": "ipython",
    "version": 3
   },
   "file_extension": ".py",
   "mimetype": "text/x-python",
   "name": "python",
   "nbconvert_exporter": "python",
   "pygments_lexer": "ipython3",
   "version": "3.10.2"
  },
  "orig_nbformat": 4
 },
 "nbformat": 4,
 "nbformat_minor": 2
}
