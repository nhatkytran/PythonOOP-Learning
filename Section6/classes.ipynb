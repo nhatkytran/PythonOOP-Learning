{
 "cells": [
  {
   "cell_type": "code",
   "execution_count": 18,
   "metadata": {},
   "outputs": [
    {
     "name": "stdout",
     "output_type": "stream",
     "text": [
      "Ajax eats tasty food!\n",
      "True\n",
      "True\n",
      "---\n",
      "<class '__main__.Student'>\n",
      "---\n",
      "True\n",
      "True\n",
      "True\n"
     ]
    }
   ],
   "source": [
    "# 1. Single Inheritance\n",
    "\n",
    "class Person:\n",
    "    def __init__(self, name):\n",
    "        self.name = name\n",
    "\n",
    "    def eat(self):\n",
    "        return f'{self.name} eats tasty food!'\n",
    "\n",
    "\n",
    "class Student(Person):\n",
    "    def __init__(self, name):\n",
    "        super().__init__(name)\n",
    "        print(super().eat())\n",
    "\n",
    "    def study(self):\n",
    "        pass\n",
    "\n",
    "\n",
    "class CodingStudent(Student):\n",
    "    pass\n",
    "\n",
    "\n",
    "s = Student('Ajax')\n",
    "\n",
    "print(isinstance(s, Person))\n",
    "print(isinstance(s, Student))\n",
    "print('---')\n",
    "print(type(s))\n",
    "print('---')\n",
    "print(issubclass(Student, Person))\n",
    "print(issubclass(CodingStudent, Student))\n",
    "print(issubclass(CodingStudent, Person))\n"
   ]
  },
  {
   "cell_type": "code",
   "execution_count": 26,
   "metadata": {},
   "outputs": [
    {
     "name": "stdout",
     "output_type": "stream",
     "text": [
      "<class 'object'>\n",
      "<class 'type'>\n",
      "<class 'type'>\n",
      "---\n",
      "Person\n"
     ]
    }
   ],
   "source": [
    "class Person(object):\n",
    "    pass\n",
    "\n",
    "\n",
    "print(object)\n",
    "print(type(object))\n",
    "print(type(Person))\n",
    "print('---')\n",
    "print(Person.__name__)\n"
   ]
  },
  {
   "cell_type": "code",
   "execution_count": 10,
   "metadata": {},
   "outputs": [
    {
     "name": "stdout",
     "output_type": "stream",
     "text": [
      "Student(name=Ajax)\n",
      "---\n",
      "__str__ Person\n"
     ]
    }
   ],
   "source": [
    "# 3. Overriding\n",
    "\n",
    "class Person:\n",
    "    def __init__(self, name):\n",
    "        self.name = name\n",
    "\n",
    "    def __repr__(self):\n",
    "        return f'Person(name={self.name})'\n",
    "    \n",
    "\n",
    "class Student(Person):\n",
    "    def __repr__(self):\n",
    "        return f'Student(name={self.name})'\n",
    "    \n",
    "\n",
    "s = Student('Ajax')\n",
    "\n",
    "print(s)\n",
    "print('---')\n",
    "\n",
    "\n",
    "class Person:\n",
    "    def __repr__(self):\n",
    "        return '__repr__ Person'\n",
    "    \n",
    "    def __str__(self):\n",
    "        return '__str__ Person'\n",
    "    \n",
    "\n",
    "class Student(Person):\n",
    "    def __repr__(self):\n",
    "        return '__repr__ Student'\n",
    "    \n",
    "    # def __str__(self):\n",
    "    #     return '__str__ Student'\n",
    "    \n",
    "\n",
    "s = Student()\n",
    "\n",
    "print(s)"
   ]
  },
  {
   "cell_type": "code",
   "execution_count": 13,
   "metadata": {},
   "outputs": [
    {
     "name": "stdout",
     "output_type": "stream",
     "text": [
      "Person eats\n",
      "Person works\n",
      "Person sleeps\n",
      "---\n",
      "Student eats\n",
      "Student studies\n",
      "Student sleeps\n"
     ]
    }
   ],
   "source": [
    "class Person:\n",
    "    def eat(self):\n",
    "        print(f'{self.__class__.__name__} eats')\n",
    "\n",
    "    def work(self):\n",
    "        print(f'{self.__class__.__name__} works')\n",
    "\n",
    "    def sleep(self):\n",
    "        print(f'{self.__class__.__name__} sleeps')\n",
    "\n",
    "    def routine(self):\n",
    "        self.eat()\n",
    "        self.work()\n",
    "        self.sleep()\n",
    "\n",
    "\n",
    "class Student(Person):\n",
    "    def work(self):\n",
    "        print(f'{self.__class__.__name__} studies')\n",
    "\n",
    "\n",
    "Person().routine()\n",
    "print('---')\n",
    "Student().routine()\n"
   ]
  },
  {
   "cell_type": "code",
   "execution_count": 17,
   "metadata": {},
   "outputs": [],
   "source": [
    "# 5. Delegating to Parent\n",
    "\n",
    "class Person:\n",
    "    def __init__(self, name, age):\n",
    "        self.name = name\n",
    "        self.age = age\n",
    "\n",
    "\n",
    "class Student(Person):\n",
    "    def __init__(self, name, age, study):\n",
    "        super().__init__(name, age)\n",
    "        self.study = study\n",
    "\n",
    "\n",
    "s = Student('Ajax', 21, 'Coding')\n"
   ]
  },
  {
   "cell_type": "code",
   "execution_count": 18,
   "metadata": {},
   "outputs": [],
   "source": [
    "class Human:\n",
    "    def __init__(self, name, age):\n",
    "        self.name = name\n",
    "        self.age = age\n",
    "\n",
    "\n",
    "class Person(Human):\n",
    "    pass\n",
    "\n",
    "\n",
    "class Student(Person):\n",
    "    def __init__(self, name, age, study):\n",
    "        super().__init__(name, age)\n",
    "        self.study = study\n",
    "\n",
    "\n",
    "s = Student('Ajax', 21, 'Coding')\n"
   ]
  },
  {
   "cell_type": "code",
   "execution_count": 22,
   "metadata": {},
   "outputs": [
    {
     "name": "stdout",
     "output_type": "stream",
     "text": [
      "Student: <__main__.Student object at 0x10bad3bb0>\n",
      "Person: <__main__.Student object at 0x10bad3bb0>\n"
     ]
    }
   ],
   "source": [
    "class Person:\n",
    "    def hello(self):\n",
    "        print('Person:', self)\n",
    "\n",
    "\n",
    "class Student(Person):\n",
    "    def hello(self):\n",
    "        print('Student:', self)\n",
    "        super().hello()\n",
    "\n",
    "\n",
    "Student().hello()\n"
   ]
  },
  {
   "cell_type": "code",
   "execution_count": 24,
   "metadata": {},
   "outputs": [
    {
     "name": "stdout",
     "output_type": "stream",
     "text": [
      "Student eats\n",
      "Student studies\n",
      "Student sleeps\n",
      "But not before a qucik game:))\n"
     ]
    }
   ],
   "source": [
    "class Person:\n",
    "    def eat(self):\n",
    "        print(f'{self.__class__.__name__} eats')\n",
    "\n",
    "    def work(self):\n",
    "        print(f'{self.__class__.__name__} works')\n",
    "\n",
    "    def sleep(self):\n",
    "        print(f'{self.__class__.__name__} sleeps')\n",
    "\n",
    "    def routine(self):\n",
    "        self.eat()\n",
    "        self.work()\n",
    "        self.sleep()\n",
    "\n",
    "\n",
    "class Student(Person):\n",
    "    def work(self):\n",
    "        print(f'{self.__class__.__name__} studies')\n",
    "\n",
    "    def routine(self):\n",
    "        super().routine()\n",
    "        print('But not before a qucik game:))')\n",
    "\n",
    "\n",
    "Student().routine()\n"
   ]
  },
  {
   "cell_type": "code",
   "execution_count": null,
   "metadata": {},
   "outputs": [],
   "source": []
  }
 ],
 "metadata": {
  "kernelspec": {
   "display_name": "Python 3",
   "language": "python",
   "name": "python3"
  },
  "language_info": {
   "codemirror_mode": {
    "name": "ipython",
    "version": 3
   },
   "file_extension": ".py",
   "mimetype": "text/x-python",
   "name": "python",
   "nbconvert_exporter": "python",
   "pygments_lexer": "ipython3",
   "version": "3.10.2"
  },
  "orig_nbformat": 4
 },
 "nbformat": 4,
 "nbformat_minor": 2
}
